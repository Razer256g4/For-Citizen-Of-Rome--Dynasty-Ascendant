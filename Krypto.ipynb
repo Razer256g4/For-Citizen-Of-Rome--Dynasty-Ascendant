{
  "nbformat": 4,
  "nbformat_minor": 0,
  "metadata": {
    "colab": {
      "name": "Untitled0.ipynb",
      "provenance": [],
      "collapsed_sections": [],
      "authorship_tag": "ABX9TyMppNibBNIbgEx1/xTmRI8O",
      "include_colab_link": true
    },
    "kernelspec": {
      "name": "python3",
      "display_name": "Python 3"
    },
    "language_info": {
      "name": "python"
    }
  },
  "cells": [
    {
      "cell_type": "markdown",
      "metadata": {
        "id": "view-in-github",
        "colab_type": "text"
      },
      "source": [
        "<a href=\"https://colab.research.google.com/github/Razer256g4/For-Citizen-Of-Rome--Dynasty-Ascendant/blob/master/Krypto.ipynb\" target=\"_parent\"><img src=\"https://colab.research.google.com/assets/colab-badge.svg\" alt=\"Open In Colab\"/></a>"
      ]
    },
    {
      "cell_type": "code",
      "metadata": {
        "id": "O-k0kjZPfAmK"
      },
      "source": [
        "from bs4 import BeautifulSoup\n",
        "import requests\n",
        "import time\n",
        "import smtplib\n",
        "import ssl\n",
        "from email.mime.text import MIMEText as MT\n",
        "from email.mime.multipart import MIMEMultipart as MM\n"
      ],
      "execution_count": 33,
      "outputs": []
    },
    {
      "cell_type": "code",
      "metadata": {
        "id": "QdNrO7ljg2T2"
      },
      "source": [
        "#To get the price\n",
        "def get_crypto_price(coin):\n",
        "  #get the url\n",
        "  url=\"https://www.google.com/search?q=\"+coin+\"price\"\n",
        "\n",
        "  #Make request\n",
        "\n",
        "  HTML=requests.get(url)\n",
        "\n",
        "  #Parse the Html\n",
        "  soup =BeautifulSoup(HTML.text , 'html.parser')\n",
        "\n",
        "  #find the current price\n",
        "  text = soup.find(\"div\", attrs={'class':'BNeawe iBp4i AP7Wnd'}).text\n",
        "\n",
        "  #Return text\n",
        "  return text"
      ],
      "execution_count": 17,
      "outputs": []
    },
    {
      "cell_type": "code",
      "metadata": {
        "id": "C-PMxT8O23C-"
      },
      "source": [
        "#get email of sender and reciever\n",
        "reciever='dummy256g4@gmail.com'\n",
        "sender='dummy256g4@gmail.com'\n",
        "sender_password='alokdas123'"
      ],
      "execution_count": 45,
      "outputs": []
    },
    {
      "cell_type": "code",
      "metadata": {
        "id": "qbHpg4rv9Wif"
      },
      "source": [
        "#send email fnt\n",
        "def send_email(sender,reciever,sender_password,text_price):\n",
        "  msg=MM()\n",
        "  msg['subject']=\"New Crypto Price Alert!\"\n",
        "  msg['From']=sender\n",
        "  msg['To']=reciever\n",
        "  HTML=\"\"\"\n",
        "    <html>\n",
        "      <body>\n",
        "        <h1>New Crypto Price Alert !</h1>\n",
        "        <h2>\"\"\"+text_price+\"\"\"\n",
        "        </h2>\n",
        "      </body>\n",
        "    </html>\n",
        "    \"\"\"\n",
        "  MTObj = MT(HTML,\"html\")\n",
        "  msg.attach(MTObj)\n",
        "  SSL_context =ssl.create_default_context()\n",
        "  server =smtplib.SMTP_SSL(host=\"smtp.gmail.com\", port=465,context=SSL_context)\n",
        "  server.login(sender,sender_password)\n",
        "  server.sendmail(sender,reciever,msg.as_string())"
      ],
      "execution_count": 46,
      "outputs": []
    },
    {
      "cell_type": "code",
      "metadata": {
        "id": "whjJ6PxfIcpL"
      },
      "source": [
        "def send_alert():\n",
        "  last_price= -1\n",
        "  while True:\n",
        "    coin='bitcoin'\n",
        "    price = get_crypto_price(coin)\n",
        "    if price != last_price:\n",
        "      print(coin.capitalize()+' price: ',price)\n",
        "      price_text =coin.capitalize()+' is '+price\n",
        "      send_email(sender,reciever,sender_password,price_text)\n",
        "      last_price=price\n",
        "      time.sleep(3)"
      ],
      "execution_count": 72,
      "outputs": []
    },
    {
      "cell_type": "code",
      "metadata": {
        "id": "p_IFdmHQQSRP"
      },
      "source": [
        ""
      ],
      "execution_count": 63,
      "outputs": []
    },
    {
      "cell_type": "code",
      "metadata": {
        "colab": {
          "base_uri": "https://localhost:8080/"
        },
        "id": "eEl1JntNN_E1",
        "outputId": "9b5fb49d-eff2-4ed1-d1b9-5b7f00469c55"
      },
      "source": [
        "\n",
        "send_alert()"
      ],
      "execution_count": null,
      "outputs": [
        {
          "output_type": "stream",
          "name": "stdout",
          "text": [
            "Bitcoin price:  45,157.40 United States Dollar\n"
          ]
        }
      ]
    }
  ]
}